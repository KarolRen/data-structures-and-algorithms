{
 "cells": [
  {
   "cell_type": "markdown",
   "metadata": {},
   "source": [
    "# 从尾到头打印单链表"
   ]
  },
  {
   "cell_type": "code",
   "execution_count": 53,
   "metadata": {
    "ExecuteTime": {
     "end_time": "2019-02-20T14:25:17.871655Z",
     "start_time": "2019-02-20T14:25:17.864815Z"
    }
   },
   "outputs": [
    {
     "name": "stdout",
     "output_type": "stream",
     "text": [
      "4\n",
      "3\n",
      "2\n",
      "1\n",
      "----------\n",
      "4\n",
      "3\n",
      "2\n",
      "1\n"
     ]
    }
   ],
   "source": [
    "class SingleNode:\n",
    "\n",
    "    def __init__(self, val):\n",
    "        self.val = val\n",
    "        self.next = None\n",
    "\n",
    "\n",
    "class SingleLinkedList:\n",
    "\n",
    "    def __init__(self):\n",
    "        self._head = None\n",
    "\n",
    "    def append(self, val):\n",
    "        if self._head == None:\n",
    "            self._head = val\n",
    "        else:\n",
    "            t = self._head\n",
    "            while t.next:\n",
    "                t = t.next\n",
    "            t.next = val\n",
    "\n",
    "    def print_end_to_head1(self, this_head):\n",
    "        \"\"\"直接递归\"\"\"\n",
    "        if this_head:\n",
    "            self.print_end_to_head1(this_head.next)\n",
    "            print((this_head.val))\n",
    "\n",
    "    def print_end_to_head2(self, this_head):\n",
    "        '''使用栈,可以使用列表模拟'''\n",
    "        s = []\n",
    "        while this_head:\n",
    "            s.append(this_head.val)\n",
    "            this_head = this_head.next\n",
    "        while s:\n",
    "            print(s.pop())\n",
    "\n",
    "\n",
    "if __name__ == '__main__':\n",
    "    sl = SingleLinkedList()\n",
    "    sl.append(SingleNode(1))\n",
    "    sl.append(SingleNode(2))\n",
    "    sl.append(SingleNode(3))\n",
    "    sl.append(SingleNode(4))\n",
    "    sl.print_end_to_head1(sl._head)\n",
    "    print('----------')\n",
    "    sl.print_end_to_head2(sl._head)"
   ]
  },
  {
   "cell_type": "code",
   "execution_count": null,
   "metadata": {},
   "outputs": [],
   "source": []
  }
 ],
 "metadata": {
  "kernelspec": {
   "display_name": "Python [conda env:py35]",
   "language": "python",
   "name": "conda-env-py35-py"
  },
  "language_info": {
   "codemirror_mode": {
    "name": "ipython",
    "version": 3
   },
   "file_extension": ".py",
   "mimetype": "text/x-python",
   "name": "python",
   "nbconvert_exporter": "python",
   "pygments_lexer": "ipython3",
   "version": "3.5.6"
  },
  "toc": {
   "base_numbering": 1,
   "nav_menu": {},
   "number_sections": true,
   "sideBar": true,
   "skip_h1_title": false,
   "title_cell": "Table of Contents",
   "title_sidebar": "Contents",
   "toc_cell": false,
   "toc_position": {},
   "toc_section_display": true,
   "toc_window_display": false
  },
  "varInspector": {
   "cols": {
    "lenName": 16,
    "lenType": 16,
    "lenVar": 40
   },
   "kernels_config": {
    "python": {
     "delete_cmd_postfix": "",
     "delete_cmd_prefix": "del ",
     "library": "var_list.py",
     "varRefreshCmd": "print(var_dic_list())"
    },
    "r": {
     "delete_cmd_postfix": ") ",
     "delete_cmd_prefix": "rm(",
     "library": "var_list.r",
     "varRefreshCmd": "cat(var_dic_list()) "
    }
   },
   "types_to_exclude": [
    "module",
    "function",
    "builtin_function_or_method",
    "instance",
    "_Feature"
   ],
   "window_display": false
  }
 },
 "nbformat": 4,
 "nbformat_minor": 2
}
