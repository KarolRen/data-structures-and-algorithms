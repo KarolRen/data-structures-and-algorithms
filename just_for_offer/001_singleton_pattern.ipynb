{
 "cells": [
  {
   "cell_type": "markdown",
   "metadata": {},
   "source": [
    "# 001 使用Python实现单例模式"
   ]
  },
  {
   "cell_type": "markdown",
   "metadata": {},
   "source": [
    "## 方法一：使用_ _new_ _ ()方法实现"
   ]
  },
  {
   "cell_type": "markdown",
   "metadata": {},
   "source": [
    "- _ _new_ _ ()\n",
    "它是在创建实例的时候被调用（注意此处的\"实例\"，我在这里并没有说\"类的实例\"，因为除了类，还有元类，元类创建实例的时候也会调用这个函数）"
   ]
  },
  {
   "cell_type": "markdown",
   "metadata": {},
   "source": [
    "- 由于 _ _new_ _ ()是在创建实例的时候被调用（即，如果你创建一个类Foo，并且这个Foo中含有一个 _ _new_ _ ()的方法，那么该方法将在你创建这个Foo类的对象时被调用，即在你写Foo()的时候被调用），所以我们可以通过直接定制 _ _new_ _()来实现单例。"
   ]
  },
  {
   "cell_type": "code",
   "execution_count": 3,
   "metadata": {
    "ExecuteTime": {
     "end_time": "2019-02-13T13:09:53.278019Z",
     "start_time": "2019-02-13T13:09:53.273134Z"
    }
   },
   "outputs": [
    {
     "name": "stdout",
     "output_type": "stream",
     "text": [
      "10\n",
      "10\n",
      "2\n",
      "1\n",
      "1\n",
      "True\n",
      "True\n"
     ]
    }
   ],
   "source": [
    "class Singleton1(object):\n",
    "    def __new__(cls, *args, **kwargs):\n",
    "        if not hasattr(cls, '_instance'):\n",
    "            cls._instance = super().__new__(cls, *args, **kwargs)\n",
    "        return cls._instance\n",
    "    \n",
    "class MyClass1(Singleton1):\n",
    "    val = 10\n",
    "    \n",
    "    def print_val(self):\n",
    "        print(self.val)\n",
    "a = MyClass1()\n",
    "a.print_val()\n",
    "b = MyClass1()\n",
    "b.print_val()\n",
    "b.val = 2\n",
    "b.print_val()\n",
    "a.val = 1\n",
    "a.print_val()\n",
    "b.print_val()\n",
    "print(id(a)==id(b))  # 得到 True\n",
    "print(a is b)"
   ]
  },
  {
   "cell_type": "markdown",
   "metadata": {},
   "source": [
    "## 方法二：使用_ _call _ _()方法实现"
   ]
  },
  {
   "cell_type": "markdown",
   "metadata": {},
   "source": [
    "- 思路：是利用元类，元类的实例是类，而类被当成函数调用时不就是对象吗？（假设类名是Demo，则Demo()就创建并返回了一个对象）因此，我们可以通过定制元类中的_ _call_ _()来实现单例。"
   ]
  },
  {
   "cell_type": "markdown",
   "metadata": {},
   "source": [
    "- _ _call_ _ ()\n",
    "官方定义：Called when the instance is \"called\" as a function; if this method is defined, x(arg1, arg2, ...) is a shorthand for x._ _call_ _(arg1, arg2, ...).\n",
    "它是在“实例被当成函数调用时”被调用。\n"
   ]
  },
  {
   "cell_type": "markdown",
   "metadata": {},
   "source": [
    "- 举个例子，实例如果是\"MyClass\"，那么，当你写下\"MyClass()\"的时候，该实例（MyClass）的创建者（注意：此处提到的创建者既有可能是类，也有可能是元类）中的_ _call_ _()被调用。"
   ]
  },
  {
   "cell_type": "code",
   "execution_count": 43,
   "metadata": {
    "ExecuteTime": {
     "end_time": "2019-02-12T11:57:26.585818Z",
     "start_time": "2019-02-12T11:57:26.582816Z"
    }
   },
   "outputs": [],
   "source": [
    "class Singleton2(type):\n",
    "    def __call__(cls, *args, **kwargs):\n",
    "        if not hasattr(cls, '_instance'):\n",
    "            cls._instance = super().__call__(*args, **kwargs)\n",
    "        return cls._instance\n",
    "\n",
    "class MyClass2(metaclass=Singleton2):\n",
    "    def __init__(self, val):\n",
    "        self.val = val\n",
    "    \n",
    "    def print_val(self):\n",
    "        print(self.val)\n",
    "    pass"
   ]
  },
  {
   "cell_type": "code",
   "execution_count": 44,
   "metadata": {
    "ExecuteTime": {
     "end_time": "2019-02-12T11:57:26.881921Z",
     "start_time": "2019-02-12T11:57:26.878919Z"
    }
   },
   "outputs": [
    {
     "name": "stdout",
     "output_type": "stream",
     "text": [
      "1\n",
      "1\n",
      "True\n",
      "True\n"
     ]
    }
   ],
   "source": [
    "c = MyClass2(1)\n",
    "d = MyClass2(2)\n",
    "c.print_val()\n",
    "d.print_val()\n",
    "print(id(c)==id(d))  # 得到 True\n",
    "print(c is d)"
   ]
  },
  {
   "cell_type": "markdown",
   "metadata": {},
   "source": [
    "##  方法三 使用装饰器实现单例模式"
   ]
  },
  {
   "cell_type": "code",
   "execution_count": 47,
   "metadata": {
    "ExecuteTime": {
     "end_time": "2019-02-12T12:03:39.014068Z",
     "start_time": "2019-02-12T12:03:39.010067Z"
    }
   },
   "outputs": [
    {
     "name": "stdout",
     "output_type": "stream",
     "text": [
      "True\n",
      "1 1\n",
      "123 123\n"
     ]
    }
   ],
   "source": [
    "from functools import wraps\n",
    "\n",
    "\n",
    "def single_ton(cls):\n",
    "    _instance = {}\n",
    "\n",
    "    @wraps(cls)\n",
    "    def single(*args, **kwargs):\n",
    "        if cls not in _instance:\n",
    "            _instance[cls] = cls(*args, **kwargs)\n",
    "        return _instance[cls]\n",
    "    return single\n",
    "\n",
    "\n",
    "@single_ton\n",
    "class SingleTon(object):\n",
    "    val = 123\n",
    "\n",
    "    def __init__(self, a):\n",
    "        self.a = a\n",
    "\n",
    "if __name__ == '__main__':\n",
    "    s = SingleTon(1)\n",
    "    t = SingleTon(2)\n",
    "    print(s is t)\n",
    "    print(s.a, t.a)\n",
    "    print(s.val, t.val)"
   ]
  },
  {
   "cell_type": "code",
   "execution_count": null,
   "metadata": {},
   "outputs": [],
   "source": []
  }
 ],
 "metadata": {
  "kernelspec": {
   "display_name": "Python [conda env:py35]",
   "language": "python",
   "name": "conda-env-py35-py"
  },
  "language_info": {
   "codemirror_mode": {
    "name": "ipython",
    "version": 3
   },
   "file_extension": ".py",
   "mimetype": "text/x-python",
   "name": "python",
   "nbconvert_exporter": "python",
   "pygments_lexer": "ipython3",
   "version": "3.5.6"
  },
  "toc": {
   "base_numbering": 1,
   "nav_menu": {},
   "number_sections": true,
   "sideBar": true,
   "skip_h1_title": false,
   "title_cell": "Table of Contents",
   "title_sidebar": "Contents",
   "toc_cell": false,
   "toc_position": {},
   "toc_section_display": true,
   "toc_window_display": false
  },
  "varInspector": {
   "cols": {
    "lenName": 16,
    "lenType": 16,
    "lenVar": 40
   },
   "kernels_config": {
    "python": {
     "delete_cmd_postfix": "",
     "delete_cmd_prefix": "del ",
     "library": "var_list.py",
     "varRefreshCmd": "print(var_dic_list())"
    },
    "r": {
     "delete_cmd_postfix": ") ",
     "delete_cmd_prefix": "rm(",
     "library": "var_list.r",
     "varRefreshCmd": "cat(var_dic_list()) "
    }
   },
   "types_to_exclude": [
    "module",
    "function",
    "builtin_function_or_method",
    "instance",
    "_Feature"
   ],
   "window_display": false
  }
 },
 "nbformat": 4,
 "nbformat_minor": 2
}
