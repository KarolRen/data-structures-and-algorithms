{
 "cells": [
  {
   "cell_type": "markdown",
   "metadata": {},
   "source": [
    "# 替换空格"
   ]
  },
  {
   "cell_type": "markdown",
   "metadata": {},
   "source": [
    "## 自己实现"
   ]
  },
  {
   "cell_type": "code",
   "execution_count": 3,
   "metadata": {
    "ExecuteTime": {
     "end_time": "2019-02-13T15:02:26.417194Z",
     "start_time": "2019-02-13T15:02:26.412308Z"
    }
   },
   "outputs": [],
   "source": [
    "def replace_space(s):\n",
    "    s_len = len(s)\n",
    "    space_count = 0\n",
    "    for i in s:\n",
    "        if i == ' ':\n",
    "            space_count += 1\n",
    "    s_len += space_count*2\n",
    "    new_array = [' '] * s_len\n",
    "    j = 0\n",
    "    for i in range(len(s)):\n",
    "        if s[i] == \" \":\n",
    "            new_array[j] = '%'\n",
    "            new_array[j+1] = '2'\n",
    "            new_array[j+2] = '0'\n",
    "            j += 3\n",
    "        else:\n",
    "            new_array[j] = s[i]\n",
    "            j += 1\n",
    "    return ''.join(new_array)\n",
    "\n",
    "        "
   ]
  },
  {
   "cell_type": "code",
   "execution_count": 4,
   "metadata": {
    "ExecuteTime": {
     "end_time": "2019-02-13T15:02:27.839887Z",
     "start_time": "2019-02-13T15:02:27.836517Z"
    }
   },
   "outputs": [
    {
     "name": "stdout",
     "output_type": "stream",
     "text": [
      "s%20d%20f%20v\n"
     ]
    }
   ],
   "source": [
    "\n",
    "print(replace_space('s d f v'))"
   ]
  }
 ],
 "metadata": {
  "kernelspec": {
   "display_name": "Python [conda env:py35]",
   "language": "python",
   "name": "conda-env-py35-py"
  },
  "language_info": {
   "codemirror_mode": {
    "name": "ipython",
    "version": 3
   },
   "file_extension": ".py",
   "mimetype": "text/x-python",
   "name": "python",
   "nbconvert_exporter": "python",
   "pygments_lexer": "ipython3",
   "version": "3.5.6"
  },
  "toc": {
   "base_numbering": 1,
   "nav_menu": {},
   "number_sections": true,
   "sideBar": true,
   "skip_h1_title": false,
   "title_cell": "Table of Contents",
   "title_sidebar": "Contents",
   "toc_cell": false,
   "toc_position": {},
   "toc_section_display": true,
   "toc_window_display": false
  },
  "varInspector": {
   "cols": {
    "lenName": 16,
    "lenType": 16,
    "lenVar": 40
   },
   "kernels_config": {
    "python": {
     "delete_cmd_postfix": "",
     "delete_cmd_prefix": "del ",
     "library": "var_list.py",
     "varRefreshCmd": "print(var_dic_list())"
    },
    "r": {
     "delete_cmd_postfix": ") ",
     "delete_cmd_prefix": "rm(",
     "library": "var_list.r",
     "varRefreshCmd": "cat(var_dic_list()) "
    }
   },
   "types_to_exclude": [
    "module",
    "function",
    "builtin_function_or_method",
    "instance",
    "_Feature"
   ],
   "window_display": false
  }
 },
 "nbformat": 4,
 "nbformat_minor": 2
}
